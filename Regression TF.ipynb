{
 "cells": [
  {
   "cell_type": "code",
   "execution_count": 1,
   "metadata": {},
   "outputs": [],
   "source": [
    "import numpy as np\n",
    "import tensorflow as tf"
   ]
  },
  {
   "cell_type": "code",
   "execution_count": 15,
   "metadata": {},
   "outputs": [],
   "source": [
    "# f: R^d -> R^c\n",
    "def get_data(m, d, c):\n",
    "    X = np.random.uniform(-1, +1, (m, d))\n",
    "    A = np.random.uniform(-1, +1, (d, c))\n",
    "    E = np.random.normal (0, 0.1, (m, c))\n",
    "    Y = X.dot(A)+E\n",
    "    \n",
    "    return X, Y, A"
   ]
  },
  {
   "cell_type": "code",
   "execution_count": 16,
   "metadata": {},
   "outputs": [
    {
     "name": "stdout",
     "output_type": "stream",
     "text": [
      "((1000, 4), (1000, 2), (4, 2))\n"
     ]
    }
   ],
   "source": [
    "X, Y, A = get_data(1000, 4, 2)\n",
    "print(X.shape, Y.shape, A.shape)"
   ]
  },
  {
   "cell_type": "code",
   "execution_count": 17,
   "metadata": {},
   "outputs": [
    {
     "name": "stdout",
     "output_type": "stream",
     "text": [
      "[[-0.50252473 -0.56376033]\n",
      " [-0.68566976 -0.28328791]\n",
      " [ 0.3926062  -0.31462611]\n",
      " [ 0.52617721 -0.04179404]]\n"
     ]
    }
   ],
   "source": [
    "print(A)"
   ]
  },
  {
   "cell_type": "code",
   "execution_count": 24,
   "metadata": {},
   "outputs": [
    {
     "name": "stdout",
     "output_type": "stream",
     "text": [
      "0.14695819\n",
      "0.08025954\n",
      "0.04616877\n",
      "0.028724503\n",
      "0.019788047\n",
      "0.0152047165\n",
      "0.0128513\n",
      "0.011641508\n",
      "0.011018888\n",
      "0.010698099\n",
      "0.010532631\n",
      "0.010447183\n",
      "0.010403008\n",
      "0.010380148\n",
      "0.010368305\n",
      "0.010362163\n"
     ]
    }
   ],
   "source": [
    "X_tf = tf.constant(X, dtype=tf.float32)\n",
    "Y_tf = tf.constant(Y, dtype=tf.float32)\n",
    "A_tf = tf.Variable(np.zeros(A.shape), dtype=tf.float32)\n",
    "F_tf = tf.matmul(X_tf, A_tf)\n",
    "\n",
    "loss_tf = tf.reduce_mean(tf.square(F_tf-Y_tf))\n",
    "step_tf = tf.train.GradientDescentOptimizer(1E-3).minimize(loss_tf)\n",
    "\n",
    "with tf.Session() as sess:\n",
    "    \n",
    "    sess.run(tf.global_variables_initializer())\n",
    "    \n",
    "    num_iterations, print_every = 2**14, 2**10\n",
    "    for i in range(num_iterations):\n",
    "        \n",
    "        sess.run(step_tf)\n",
    "        \n",
    "        if i % print_every == print_every-1:\n",
    "            print(sess.run(loss_tf))\n",
    "    \n",
    "        \n",
    "    A_opt = sess.run(A_tf)\n"
   ]
  },
  {
   "cell_type": "code",
   "execution_count": 27,
   "metadata": {},
   "outputs": [
    {
     "name": "stdout",
     "output_type": "stream",
     "text": [
      "[[-0.50252473 -0.56376033]\n",
      " [-0.68566976 -0.28328791]\n",
      " [ 0.3926062  -0.31462611]\n",
      " [ 0.52617721 -0.04179404]]\n",
      "\n",
      "[[-0.49429384 -0.56082743]\n",
      " [-0.67869043 -0.28039393]\n",
      " [ 0.38294655 -0.30882356]\n",
      " [ 0.52574795 -0.04175581]]\n"
     ]
    }
   ],
   "source": [
    "print(A)\n",
    "print(\"\")\n",
    "print(A_opt)"
   ]
  },
  {
   "cell_type": "code",
   "execution_count": null,
   "metadata": {},
   "outputs": [],
   "source": []
  }
 ],
 "metadata": {
  "kernelspec": {
   "display_name": "Python 3",
   "language": "python",
   "name": "python3"
  },
  "language_info": {
   "codemirror_mode": {
    "name": "ipython",
    "version": 2
   },
   "file_extension": ".py",
   "mimetype": "text/x-python",
   "name": "python",
   "nbconvert_exporter": "python",
   "pygments_lexer": "ipython2",
   "version": "2.7.15rc1"
  }
 },
 "nbformat": 4,
 "nbformat_minor": 2
}
