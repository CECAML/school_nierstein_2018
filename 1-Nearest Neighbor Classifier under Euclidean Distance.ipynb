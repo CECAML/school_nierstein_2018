{
 "cells": [
  {
   "cell_type": "code",
   "execution_count": 1,
   "metadata": {},
   "outputs": [],
   "source": [
    "# do not forget to swapoff -a\n",
    "import numpy as np       # linear algebra\n",
    "import pylab as pl       # plots\n",
    "import tensorflow as tf  # just for data sets (no deep learning yet)"
   ]
  },
  {
   "cell_type": "code",
   "execution_count": 2,
   "metadata": {},
   "outputs": [
    {
     "name": "stdout",
     "output_type": "stream",
     "text": [
      "((60000, 28, 28), (60000,))\n",
      "((10000, 28, 28), (10000,))\n"
     ]
    }
   ],
   "source": [
    "# choose wisely\n",
    "(train, label_train), (test, label_test) = tf.keras.datasets.mnist.load_data()\n",
    "(train, label_train), (test, label_test) = tf.keras.datasets.fashion_mnist.load_data()\n",
    "\n",
    "# make sure your data is floating point\n",
    "test = test.astype(np.float32)\n",
    "train = train.astype(np.float32)\n",
    "\n",
    "# print shapes\n",
    "print(train.shape, label_train.shape)\n",
    "print(test.shape, label_test.shape)"
   ]
  },
  {
   "cell_type": "code",
   "execution_count": 3,
   "metadata": {},
   "outputs": [
    {
     "name": "stdout",
     "output_type": "stream",
     "text": [
      "((30000, 28, 28), (30000,))\n",
      "((10000, 28, 28), (10000,))\n"
     ]
    }
   ],
   "source": [
    "# here we can subsample in the data set\n",
    "num_test, num_train = 10000, 30000\n",
    "test, label_test = test[:num_test], label_test[:num_test]\n",
    "train, label_train = train[:num_train], label_train[:num_train]\n",
    "\n",
    "# print shapes\n",
    "print(train.shape, label_train.shape)\n",
    "print(test.shape, label_test.shape)"
   ]
  },
  {
   "cell_type": "code",
   "execution_count": 4,
   "metadata": {},
   "outputs": [
    {
     "data": {
      "image/png": "[encoded data removed]",
      "text/plain": [
       "<matplotlib.figure.Figure at 0x7f4fb842e650>"
      ]
     },
     "metadata": {
      "needs_background": "light"
     },
     "output_type": "display_data"
    },
    {
     "data": {
      "image/png": "[encoded data removed]",
      "text/plain": [
       "<matplotlib.figure.Figure at 0x7f4fb83fdf50>"
      ]
     },
     "metadata": {
      "needs_background": "light"
     },
     "output_type": "display_data"
    }
   ],
   "source": [
    "# let us have a look at some examples\n",
    "num_examples = 2\n",
    "for label, image in zip(label_test, test)[:num_examples]:\n",
    "    pl.imshow(image)\n",
    "    pl.title(str(label))\n",
    "    pl.show()"
   ]
  },
  {
   "cell_type": "code",
   "execution_count": 5,
   "metadata": {},
   "outputs": [
    {
     "name": "stderr",
     "output_type": "stream",
     "text": [
      "100%|██████████| 32/32 [00:03<00:00,  9.83it/s]\n"
     ]
    }
   ],
   "source": [
    "import time # time measurement\n",
    "import tqdm # arabic taquadim \"I love you so much!\" \n",
    "\n",
    "for index in tqdm.tqdm(range(2**5)):\n",
    "    time.sleep(0.1)\n",
    "    "
   ]
  },
  {
   "cell_type": "code",
   "execution_count": 6,
   "metadata": {},
   "outputs": [
    {
     "data": {
      "text/plain": [
       "'\\nbegin = time.time()\\n\\ndef predict(image, train, train_label):\\n\\n    bsf = float(\"infinity\")\\n    bsf_index = -1\\n\\n    for index, train_image in enumerate(train):\\n\\n        # compute distance between image and train_image\\n        dist = np.sum(np.square(image-train_image), axis=(0, 1))\\n\\n        if dist < bsf:\\n            bsf = dist\\n            bsf_index = index\\n\\n    return label_train[bsf_index]\\n\\nlabel_predicted = np.zeros(label_test.shape)\\nfor index, image in tqdm.tqdm(enumerate(test)):\\n    label_predicted[index] = predict(image, train, label_train)\\n\\nprint(np.sum(label_test==label_predicted)/float(test.shape[0]),\\n      time.time()-begin)\\n'"
      ]
     },
     "execution_count": 6,
     "metadata": {},
     "output_type": "execute_result"
    }
   ],
   "source": [
    "# this is really OK but agonizingly slow\n",
    "\"\"\"\n",
    "begin = time.time()\n",
    "\n",
    "def predict(image, train, train_label):\n",
    "\n",
    "    bsf = float(\"infinity\")\n",
    "    bsf_index = -1\n",
    "\n",
    "    for index, train_image in enumerate(train):\n",
    "\n",
    "        # compute distance between image and train_image\n",
    "        dist = np.sum(np.square(image-train_image), axis=(0, 1))\n",
    "\n",
    "        if dist < bsf:\n",
    "            bsf = dist\n",
    "            bsf_index = index\n",
    "\n",
    "    return label_train[bsf_index]\n",
    "\n",
    "label_predicted = np.zeros(label_test.shape)\n",
    "for index, image in tqdm.tqdm(enumerate(test)):\n",
    "    label_predicted[index] = predict(image, train, label_train)\n",
    "\n",
    "print(np.sum(label_test==label_predicted)/float(test.shape[0]),\n",
    "      time.time()-begin)\n",
    "\"\"\""
   ]
  },
  {
   "cell_type": "code",
   "execution_count": 7,
   "metadata": {},
   "outputs": [
    {
     "name": "stdout",
     "output_type": "stream",
     "text": [
      "('minimum distance', 433.0)\n",
      "(0.8327, 5.231136798858643)\n"
     ]
    }
   ],
   "source": [
    "begin = time.time()\n",
    "\n",
    "# let k enumerate pixels\n",
    "#  dist(i, j) = sum_k (X_test[i, k]-X_train[j, k])^2\n",
    "#             = sum_k X_test[i, k]*X_test[i, k]               (A2)\n",
    "#             - sum_k 2*X_test[i, k]*X_train_[j,k]            (AB)\n",
    "#             + sum_k X_train[j, k]*X_train[j, k]             (B2)\n",
    "\n",
    "A2 = np.sum(np.square(test),  axis=(1, 2))\n",
    "B2 = np.sum(np.square(train), axis=(1, 2))\n",
    "AB = np.tensordot(test, train, axes=((1, 2), (1, 2)))\n",
    "\n",
    "A2 = np.expand_dims(A2, 1)\n",
    "B2 = np.expand_dims(B2, 0)\n",
    "D = A2-2*AB+B2\n",
    "print(\"minimum distance\", np.min(D))\n",
    "\n",
    "best_match = D.argmin(axis=1)\n",
    "label_predicted = label_train[best_match]\n",
    "\n",
    "print(np.sum(label_test==label_predicted)/float(test.shape[0]),\n",
    "      time.time()-begin)"
   ]
  },
  {
   "cell_type": "code",
   "execution_count": 8,
   "metadata": {},
   "outputs": [
    {
     "name": "stdout",
     "output_type": "stream",
     "text": [
      "((10, 3), (10,))\n",
      "((10, 3), (10, 1))\n",
      "[ 0.  0. -0.  0.  0.  0.  0. -0.  0.  0.]\n"
     ]
    }
   ],
   "source": [
    "# excerpt on broadcasting\n",
    "X = np.random.normal(0, 1, (10, 3))\n",
    "S = np.sum(X, axis=1)/X.shape[1]\n",
    "\n",
    "print(X.shape, S.shape)\n",
    "\n",
    "# now substract\n",
    "S = np.expand_dims(S, 1)\n",
    "X = X-S\n",
    "\n",
    "print(X.shape, S.shape)\n",
    "print(np.sum(X, axis=1).round(4))\n"
   ]
  },
  {
   "cell_type": "code",
   "execution_count": 9,
   "metadata": {},
   "outputs": [],
   "source": [
    "###############################################################################\n",
    "# Task for the audience\n",
    "###############################################################################\n",
    "\n",
    "# Let znorm : R^m x R^h x R^w -> R^m x R^h x R^w , X |-> znorm(X)\n",
    "# such that \n",
    "\n",
    "# znorm(X[i, x, y]) = (X[i, x, y] - Mu[i])/Sigma[i]\n",
    "\n",
    "# where Mu[i] = 1/(w*h) sum_x sum_y X[i, x, y] is the mean over all pixels\n",
    "# and Sigma[i] = sqrt(1/(w*h) sum_x sum_y (X[i, x, y] - Mu[i])^2)\n",
    "#\n",
    "# Remark: Have a look at the functions np.mean and np.std \n",
    "# and their parameter axis. Further exploit broadcasting.\n",
    "# \n",
    "# 1. Implement the znorm function, check it for correctness\n",
    "# 2. Reformulate the 1NN objective, what about the self-interaction terms?\n",
    "# 3. Compute classification accuracy and measure runtime."
   ]
  },
  {
   "cell_type": "code",
   "execution_count": 10,
   "metadata": {},
   "outputs": [
    {
     "name": "stdout",
     "output_type": "stream",
     "text": [
      "('minimum distance:', 0.0715332)\n",
      "(0.8452, 4.698229789733887)\n"
     ]
    }
   ],
   "source": [
    "################################################################################\n",
    "# task for the audience\n",
    "################################################################################\n",
    "\n",
    "def znorm(data):\n",
    "\n",
    "    mean = np.expand_dims(np.expand_dims(np.mean(data, axis=(1, 2)), 1), 2)\n",
    "    std  = np.expand_dims(np.expand_dims(np.std(data,  axis=(1, 2)), 1), 2)\n",
    "\n",
    "    return (data-mean)/std\n",
    "\n",
    "train = znorm(train)\n",
    "test = znorm(test)\n",
    "\n",
    "begin = time.time()\n",
    "AB = np.tensordot(test, train, axes=((1, 2), (1, 2)))\n",
    "D = 2*784-2*AB\n",
    "print(\"minimum distance:\", np.min(D))\n",
    "\n",
    "best_match = D.argmin(axis=1)\n",
    "label_predicted = label_train[best_match]\n",
    "\n",
    "print(np.sum(label_test==label_predicted)/float(test.shape[0]),\n",
    "      time.time()-begin)"
   ]
  },
  {
   "cell_type": "code",
   "execution_count": 11,
   "metadata": {},
   "outputs": [
    {
     "name": "stdout",
     "output_type": "stream",
     "text": [
      "(0.8452, 1.7812631130218506)\n"
     ]
    }
   ],
   "source": [
    "################################################################################\n",
    "# make it really fast (this will probably not work on your laptop)\n",
    "################################################################################\n",
    "\n",
    "# here we use a GeForce GT 750M with \n",
    "#  - 2GB of GDDR5 RAM @ 64.19 GB/s \n",
    "#  - 742.7 GFLOPS FP32 performance\n",
    "\n",
    "# typically you would use a Tesla V100 \n",
    "#  - 16 GB of HBM2 RAM @ 920 GB/s\n",
    "#  - 15.7 TFLOPS FP32 performance \n",
    "\n",
    "# use the latest version directly from github\n",
    "# pip install --user git+git://github.com/lebedov/scikit-cuda\n",
    "\n",
    "import pycuda.autoinit\n",
    "import pycuda.gpuarray as gpuarray\n",
    "import skcuda.linalg as linalg\n",
    "import skcuda.misc as misc\n",
    "\n",
    "begin = time.time()\n",
    "\n",
    "linalg.init()\n",
    "A_gpu = gpuarray.to_gpu(test.reshape((-1, 784)))\n",
    "B_gpu = gpuarray.to_gpu(train.reshape((-1, 784)))\n",
    "AB_gpu = linalg.dot(A_gpu, B_gpu, \"N\", \"T\")\n",
    "\n",
    "best_match = misc.argmax(AB_gpu, axis=1).get()\n",
    "\n",
    "# delete those GPU arrays directly\n",
    "del A_gpu\n",
    "del B_gpu\n",
    "del AB_gpu\n",
    "\n",
    "label_predicted = label_train[best_match]\n",
    "\n",
    "print(np.sum(label_test==label_predicted)/float(test.shape[0]),\n",
    "      time.time()-begin)"
   ]
  },
  {
   "cell_type": "code",
   "execution_count": null,
   "metadata": {},
   "outputs": [],
   "source": []
  }
 ],
 "metadata": {
  "kernelspec": {
   "display_name": "Python 3",
   "language": "python",
   "name": "python3"
  },
  "language_info": {
   "codemirror_mode": {
    "name": "ipython",
    "version": 2
   },
   "file_extension": ".py",
   "mimetype": "text/x-python",
   "name": "python",
   "nbconvert_exporter": "python",
   "pygments_lexer": "ipython2",
   "version": "2.7.15rc1"
  }
 },
 "nbformat": 4,
 "nbformat_minor": 2
}
