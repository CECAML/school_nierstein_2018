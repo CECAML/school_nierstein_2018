{
 "cells": [
  {
   "cell_type": "code",
   "execution_count": 11,
   "metadata": {},
   "outputs": [],
   "source": [
    "import numpy as np\n",
    "import tensorflow as tf\n",
    "import tensorflow.contrib.layers as tfl"
   ]
  },
  {
   "cell_type": "code",
   "execution_count": 12,
   "metadata": {},
   "outputs": [
    {
     "name": "stdout",
     "output_type": "stream",
     "text": [
      "('loss', 0.0017499342)\n",
      "('loss', 0.0003562667)\n",
      "('loss', 0.00015056848)\n",
      "('loss', 7.351329e-05)\n",
      "('accuracy:', 1.0)\n"
     ]
    }
   ],
   "source": [
    "X_tf = tf.placeholder(shape=[None, 2], dtype=tf.float32)\n",
    "Y_tf = tf.placeholder(shape=[None, 1], dtype=tf.float32)\n",
    "\n",
    "net = tf.identity(X_tf)\n",
    "\n",
    "# http://colah.github.io/posts/2014-03-NN-Manifolds-Topology/\n",
    "net = tfl.fully_connected(net,  2, activation_fn=tf.nn.sigmoid) # <==== this layer is important\n",
    "net = tfl.fully_connected(net,  1, activation_fn=tf.identity)\n",
    "\n",
    "loss_tf = tf.reduce_mean(tf.nn.sigmoid_cross_entropy_with_logits(labels=Y_tf, logits=net))\n",
    "step_tf = tf.train.AdamOptimizer(1E-1).minimize(loss_tf)\n",
    "\n",
    "with tf.Session() as sess:\n",
    "    sess.run(tf.global_variables_initializer())\n",
    "    \n",
    "    num_iterations, print_every, batch_size = 2**12, 2**10, 2**10\n",
    "    for iteration in range(num_iterations):\n",
    "        \n",
    "        X = np.random.randint(0, 2, (batch_size, 2))\n",
    "        Y = (X[:,:1]+X[:,1:]) % 2\n",
    "         \n",
    "        sess.run(step_tf, feed_dict={X_tf: X, Y_tf: Y})\n",
    "        \n",
    "        if iteration % print_every == print_every-1:\n",
    "            loss = sess.run(loss_tf, feed_dict={X_tf: X, Y_tf: Y})\n",
    "            print(\"loss\", loss)\n",
    "\n",
    "    X = np.random.randint(0, 2, (batch_size, 2))\n",
    "    Y = (X[:,:1]+X[:,1:]) % 2\n",
    "    \n",
    "    Y_ = sess.run(tf.nn.sigmoid(net), feed_dict={X_tf: X, Y_tf: Y})\n",
    "    print(\"accuracy:\", np.mean(np.round(Y_).astype(np.int8) == Y))"
   ]
  },
  {
   "cell_type": "code",
   "execution_count": null,
   "metadata": {},
   "outputs": [],
   "source": []
  },
  {
   "cell_type": "code",
   "execution_count": null,
   "metadata": {},
   "outputs": [],
   "source": []
  }
 ],
 "metadata": {
  "kernelspec": {
   "display_name": "Python 3",
   "language": "python",
   "name": "python3"
  },
  "language_info": {
   "codemirror_mode": {
    "name": "ipython",
    "version": 2
   },
   "file_extension": ".py",
   "mimetype": "text/x-python",
   "name": "python",
   "nbconvert_exporter": "python",
   "pygments_lexer": "ipython2",
   "version": "2.7.15rc1"
  }
 },
 "nbformat": 4,
 "nbformat_minor": 2
}
