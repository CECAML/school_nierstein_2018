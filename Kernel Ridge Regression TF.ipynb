{
 "cells": [
  {
   "cell_type": "code",
   "execution_count": 1,
   "metadata": {},
   "outputs": [],
   "source": [
    "import numpy as np\n",
    "import pylab as pl\n",
    "import tensorflow as tf\n",
    "\n",
    "def get_data(m, d, c):\n",
    "    X = np.random.uniform(- 1,  +1, (m, d))\n",
    "    W = np.random.uniform(-10, +10, (d, c))\n",
    "    Y = np.cos(X.dot(W))+X\n",
    "    E = np.random.normal(0, 1E-1, (m, c))\n",
    "\n",
    "    return X, Y+E\n",
    "\n",
    "m, d, c = 128, 1, 1\n",
    "X, Y = get_data(m, d, c)"
   ]
  },
  {
   "cell_type": "code",
   "execution_count": 2,
   "metadata": {},
   "outputs": [],
   "source": [
    "X_tf = tf.constant(X, dtype=tf.float32)\n",
    "Y_tf = tf.constant(Y, dtype=tf.float32)\n",
    "D_tf = tf.reduce_sum(tf.square(tf.expand_dims(X_tf, 0)\n",
    "                              -tf.expand_dims(X_tf, 1)), axis=-1)\n",
    "\n",
    "sigma, lambd = 1E-1, 1E-3\n",
    "K_tf = tf.exp(-0.5*D_tf/sigma**2)\n",
    "V_tf = tf.Variable(np.random.normal(0, 1E-3, (m, c)), dtype=tf.float32)\n",
    "\n",
    "#print(X_tf.get_shape(), D_tf.get_shape(), \n",
    "#      K_tf.get_shape(), V_tf.get_shape(), Y_tf.get_shape())\n",
    "\n",
    "# W=Xt V  (d, c) = (d, m) (m, c)\n",
    "# |Y-XW|^2+lambda |W|^2 = |Y-XXt V|^2 + lambda |Xt V|^2 \n",
    "loss = tf.reduce_mean(tf.square(Y_tf-tf.matmul(K_tf, V_tf))) \\\n",
    "     + lambd*tf.reduce_sum(tf.matmul(tf.matmul(tf.transpose(V_tf), K_tf), V_tf))\n",
    "\n",
    "\n",
    "optimizer = tf.train.AdamOptimizer(1E-3).minimize(loss)"
   ]
  },
  {
   "cell_type": "code",
   "execution_count": 3,
   "metadata": {},
   "outputs": [
    {
     "name": "stdout",
     "output_type": "stream",
     "text": [
      "0.02823954\n",
      "0.021803308\n",
      "0.02113153\n",
      "0.020874798\n"
     ]
    }
   ],
   "source": [
    "with tf.Session() as sess:\n",
    "    sess.run(tf.global_variables_initializer())\n",
    "\n",
    "    num_iterations, print_every = 2**10, 2**8\n",
    "    for iteration in range(num_iterations):\n",
    "\n",
    "        sess.run(optimizer)\n",
    "        \n",
    "        if iteration % print_every == print_every-1:\n",
    "            print(sess.run(loss))\n",
    "    \n",
    "    V = sess.run(V_tf)"
   ]
  },
  {
   "cell_type": "code",
   "execution_count": 4,
   "metadata": {},
   "outputs": [
    {
     "data": {
      "image/png": "[encoded data removed]",
      "text/plain": [
       "<matplotlib.figure.Figure at 0x7f65c8d2a390>"
      ]
     },
     "metadata": {
      "needs_background": "light"
     },
     "output_type": "display_data"
    }
   ],
   "source": [
    "# inspect the learned function\n",
    "b = 1000\n",
    "T = np.random.uniform(-1, 1, (b, d))\n",
    "D = np.sum(np.square(np.expand_dims(X, 0)-np.expand_dims(T, 1)), axis=-1)\n",
    "K = np.exp(-0.5*D/sigma**2)\n",
    "\n",
    "F = K.dot(V)\n",
    "\n",
    "iota = T.flatten().argsort()\n",
    "pl.plot(X.flatten(), Y.flatten(), \"o\", c=\"blue\")\n",
    "pl.plot(T.flatten()[iota], F.flatten()[iota], c=\"red\")\n",
    "\n",
    "pl.show()"
   ]
  },
  {
   "cell_type": "code",
   "execution_count": null,
   "metadata": {},
   "outputs": [],
   "source": []
  }
 ],
 "metadata": {
  "kernelspec": {
   "display_name": "Python 3",
   "language": "python",
   "name": "python3"
  },
  "language_info": {
   "codemirror_mode": {
    "name": "ipython",
    "version": 2
   },
   "file_extension": ".py",
   "mimetype": "text/x-python",
   "name": "python",
   "nbconvert_exporter": "python",
   "pygments_lexer": "ipython2",
   "version": "2.7.15rc1"
  }
 },
 "nbformat": 4,
 "nbformat_minor": 2
}
