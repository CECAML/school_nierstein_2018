{
 "cells": [
  {
   "cell_type": "code",
   "execution_count": 7,
   "metadata": {},
   "outputs": [],
   "source": [
    "# do not forget to swapoff -a\n",
    "import numpy as np       # linear algebra\n",
    "import pylab as pl       # plots\n",
    "import tensorflow as tf  # now we are actually using it "
   ]
  },
  {
   "cell_type": "code",
   "execution_count": 8,
   "metadata": {},
   "outputs": [
    {
     "name": "stdout",
     "output_type": "stream",
     "text": [
      "((60000, 28, 28), (60000,))\n",
      "((10000, 28, 28), (10000,))\n"
     ]
    }
   ],
   "source": [
    "# choose wisely\n",
    "(train, label_train), (test, label_test) = tf.keras.datasets.mnist.load_data()\n",
    "#(train, label_train), (test, label_test) = tf.keras.datasets.fashion_mnist.load_data()\n",
    "\n",
    "# make sure your data is floating point\n",
    "test = test.astype(np.float32)\n",
    "train = train.astype(np.float32)\n",
    "\n",
    "# print shapes\n",
    "print(train.shape, label_train.shape)\n",
    "print(test.shape, label_test.shape)"
   ]
  },
  {
   "cell_type": "code",
   "execution_count": 9,
   "metadata": {},
   "outputs": [
    {
     "name": "stdout",
     "output_type": "stream",
     "text": [
      "((60000, 28, 28), (60000,))\n",
      "((10000, 28, 28), (10000,))\n"
     ]
    }
   ],
   "source": [
    "# here we can subsample in the data set\n",
    "num_test, num_train = 10000, 60000\n",
    "test, label_test = test[:num_test], label_test[:num_test]\n",
    "train, label_train = train[:num_train], label_train[:num_train]\n",
    "\n",
    "# print shapes\n",
    "print(train.shape, label_train.shape)\n",
    "print(test.shape, label_test.shape)"
   ]
  },
  {
   "cell_type": "code",
   "execution_count": 10,
   "metadata": {},
   "outputs": [],
   "source": [
    "# forget about the image shape\n",
    "train = train.reshape((-1, 784))\n",
    "test = test.reshape((-1, 784))"
   ]
  },
  {
   "cell_type": "code",
   "execution_count": 11,
   "metadata": {},
   "outputs": [],
   "source": [
    "# now define the session graph\n",
    "X_tf = tf.placeholder(shape=[None, 784], dtype=tf.float32) # for each image we have 784 pixels\n",
    "Y_tf = tf.placeholder(shape=[None],      dtype=tf.int64)   # for each image we have one scalar label\n",
    "\n",
    "A_tf = tf.Variable(np.zeros((784, 10)), dtype=tf.float32)\n",
    "a_tf = tf.Variable(np.zeros((10)),      dtype=tf.float32)\n",
    "F_tf = tf.add(tf.matmul(X_tf, A_tf), a_tf)\n",
    "\n",
    "# map scalar labels onto one-hot encoded vectors\n",
    "L_tf = tf.one_hot(Y_tf, 10, dtype=tf.float32)\n",
    "\n",
    "# compute crossentrop_softmax_with logits\n",
    "M_tf = tf.reduce_max(F_tf)\n",
    "norm_tf = tf.expand_dims(tf.reduce_sum(tf.exp(F_tf-M_tf), axis=1), 1)\n",
    "log_norm_tf = tf.where(norm_tf < 0, tf.zeros_like(norm_tf), tf.log(norm_tf))\n",
    "log_softmax_F_tf =  (F_tf-M_tf)-log_norm_tf \n",
    "loss_tf = tf.reduce_mean(tf.reduce_sum(-L_tf * log_softmax_F_tf, axis=1)) \n",
    "\n",
    "# let us define the non-differentiable accuracy as metric\n",
    "correctly_predicted_tf = tf.equal(tf.argmax(L_tf, axis=1), \n",
    "                                  tf.argmax(tf.nn.softmax(F_tf-M_tf), axis=1))\n",
    "metric_tf = tf.reduce_mean(tf.cast(correctly_predicted_tf, tf.float32))\n",
    "\n",
    "# define the optimizer\n",
    "optimizer = tf.train.GradientDescentOptimizer(1E-6)\n",
    "step_tf = optimizer.minimize(loss_tf)"
   ]
  },
  {
   "cell_type": "code",
   "execution_count": 12,
   "metadata": {},
   "outputs": [
    {
     "name": "stdout",
     "output_type": "stream",
     "text": [
      "('train loss and metric:', 0.38203013, 0.89428335)\n",
      "('train loss and metric:', 0.34408128, 0.90433335)\n",
      "('train loss and metric:', 0.3276412, 0.9087)\n",
      "('train loss and metric:', 0.31346628, 0.91118336)\n",
      "('train loss and metric:', 0.30585456, 0.91595)\n",
      "('train loss and metric:', 0.30383998, 0.91533333)\n",
      "('train loss and metric:', 0.29677233, 0.91686666)\n",
      "('train loss and metric:', 0.29354337, 0.91796666)\n",
      "('train loss and metric:', 0.29127175, 0.91815)\n",
      "('train loss and metric:', 0.28918633, 0.91898334)\n",
      "('train loss and metric:', 0.2856266, 0.92141664)\n",
      "('train loss and metric:', 0.28520247, 0.92018336)\n",
      "('train loss and metric:', 0.28161505, 0.92223334)\n",
      "('train loss and metric:', 0.28331536, 0.92111665)\n",
      "('train loss and metric:', 0.27989212, 0.92286664)\n",
      "('train loss and metric:', 0.27751896, 0.92356664)\n",
      "('test loss and metric:', 0.28106183, 0.9215)\n"
     ]
    }
   ],
   "source": [
    "with tf.Session() as sess:\n",
    "\n",
    "    sess.run(tf.global_variables_initializer())\n",
    "    \n",
    "    num_iterations, print_every, batch_size = 2**14, 2**10, 2**5\n",
    "    for iteration in range(num_iterations):\n",
    "        \n",
    "        indices = np.random.choice(train.shape[0], batch_size, replace=False)\n",
    "        X, Y = train[indices], label_train[indices]\n",
    "        \n",
    "        sess.run(step_tf, feed_dict={X_tf: X, Y_tf: Y})\n",
    "        \n",
    "        if iteration % print_every == print_every-1:\n",
    "            loss, metric = sess.run([loss_tf, metric_tf], feed_dict={X_tf: train, Y_tf: label_train})\n",
    "            print(\"train loss and metric:\",loss, metric)\n",
    "            \n",
    "    loss, metric = sess.run([loss_tf, metric_tf], feed_dict={X_tf: test, Y_tf: label_test})\n",
    "    print(\"test loss and metric:\", loss, metric)"
   ]
  },
  {
   "cell_type": "code",
   "execution_count": null,
   "metadata": {},
   "outputs": [],
   "source": []
  }
 ],
 "metadata": {
  "kernelspec": {
   "display_name": "Python 3",
   "language": "python",
   "name": "python3"
  },
  "language_info": {
   "codemirror_mode": {
    "name": "ipython",
    "version": 2
   },
   "file_extension": ".py",
   "mimetype": "text/x-python",
   "name": "python",
   "nbconvert_exporter": "python",
   "pygments_lexer": "ipython2",
   "version": "2.7.15rc1"
  }
 },
 "nbformat": 4,
 "nbformat_minor": 2
}
